{
 "cells": [
  {
   "cell_type": "code",
   "execution_count": 14,
   "id": "5601aaca",
   "metadata": {},
   "outputs": [
    {
     "name": "stdout",
     "output_type": "stream",
     "text": [
      "1\n",
      "1\n",
      "[9.505058681450018, 35.10457255357614]\n",
      "[9.505058681450018, 35.10457255357614]\n"
     ]
    }
   ],
   "source": [
    "def get_throughput(path):\n",
    "    w = []\n",
    "    r = []\n",
    "    with open (path, \"r\") as f:\n",
    "        cnt = 0\n",
    "        for line in f.readlines():\n",
    "            if (\"real_elapse\" in line):\n",
    "                cnt += 1\n",
    "                print(cnt)\n",
    "                if (cnt == 1):\n",
    "                    data = line.strip().split(\",\")\n",
    "                    operations = float(data[0].strip(\"\u001b[0m\").split()[0])\n",
    "                    real_elapse = float(data[1].strip().split()[0])\n",
    "                    w.append(operations/real_elapse/1024/1024)\n",
    "                elif (cnt == 2):\n",
    "                    data = line.strip().split(\",\")\n",
    "                    operations = float(data[0].strip(\"\u001b[0m\").split()[0])\n",
    "                    real_elapse = float(data[1].strip().split()[0])\n",
    "                    r.append(operations/real_elapse/1024/1024)\n",
    "    return w, r\n",
    "                \n",
    "# for idx in range(1, 41):\n",
    "#     path = \"CCEH_CoW_th\" + str(idx) + \".txt\"\n",
    "#     tp = get_throughput(path)\n",
    "#     print(tp, end = ' ')\n",
    "\n",
    "path = \"calculator_test.txt\"\n",
    "w, r = get_throughput(path)\n",
    "for i in w:\n",
    "    print(w)\n",
    "    \n",
    "for j in r:\n",
    "    print(r)\n",
    "\n",
    "\n",
    "\n"
   ]
  },
  {
   "cell_type": "code",
   "execution_count": null,
   "id": "1b1977f5",
   "metadata": {},
   "outputs": [],
   "source": []
  }
 ],
 "metadata": {
  "kernelspec": {
   "display_name": "Python 3",
   "language": "python",
   "name": "python3"
  },
  "language_info": {
   "codemirror_mode": {
    "name": "ipython",
    "version": 3
   },
   "file_extension": ".py",
   "mimetype": "text/x-python",
   "name": "python",
   "nbconvert_exporter": "python",
   "pygments_lexer": "ipython3",
   "version": "3.9.2"
  }
 },
 "nbformat": 4,
 "nbformat_minor": 5
}
