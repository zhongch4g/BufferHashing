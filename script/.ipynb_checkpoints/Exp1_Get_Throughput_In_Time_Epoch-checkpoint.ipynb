{
 "cells": [
  {
   "cell_type": "code",
   "execution_count": 1,
   "id": "727b76a0",
   "metadata": {},
   "outputs": [],
   "source": [
    "\"\"\"\n",
    "For 2 DIMMs results\n",
    "\"\"\"\n",
    "import pandas as pd\n",
    "import numpy as np\n",
    "\n",
    "def get_dual_results(path):\n",
    "    buffer_dist = []\n",
    "    statistic = []\n",
    "    with open(path, \"r\") as f:\n",
    "        for line in f.readlines():\n",
    "            if (line.startswith(\"TIME|\")):\n",
    "                statistic.append(line.strip(\"TIME|\").strip(\"\\n\").split(\",\"))\n",
    "            else:\n",
    "                buffer_dist.append(line.strip(\"\\n\").split(\",\"))\n",
    "#     if (buffer_dist):\n",
    "#         buffer_dist = np.array(buffer_dist)\n",
    "#         buffer_dist = pd.DataFrame(buffer_dist, columns=['cceh0', 'cceh1', 'total'], dtype=np.float)\n",
    "\n",
    "    if (statistic):\n",
    "        statistic = np.array(statistic)\n",
    "        statistic = pd.DataFrame(statistic, columns=['thread', 'last_done', 'cur_done', 'seg_time', 'time'], dtype=np.float)\n",
    "    \n",
    "    \"\"\"\n",
    "    Calculate throughput : (epoch_ops/epoch_time/1024/1024)\n",
    "    \"\"\"\n",
    "    max_size0 = 0\n",
    "    max_size1 = 0\n",
    "    for i in range(20):\n",
    "        th = statistic[statistic[\"thread\"]==i].shape\n",
    "        if (th[0] > max_size0):\n",
    "            max_size0 = th[0]\n",
    "\n",
    "    for i in range(20,40):\n",
    "        th = statistic[statistic[\"thread\"]==i].shape\n",
    "        if (th[0] > max_size1):\n",
    "            max_size1 = th[0]\n",
    "\n",
    "    print(\"CCEH0 max runtime = \",max_size0, \"CCEH1 max runtime = \", max_size1)\n",
    "    \n",
    "    MAX_SIZE = min(max_size0, max_size1)\n",
    "\n",
    "    cceh0 = np.zeros(max_size0)\n",
    "    cceh1 = np.zeros(max_size1)\n",
    "    \n",
    "    for i in range(20):\n",
    "        th = statistic[statistic[\"thread\"]==i]\n",
    "        cur_done = th['cur_done'].values\n",
    "        last_done = th['last_done'].values\n",
    "        eopch = cur_done - last_done\n",
    "        cur_length = cur_done.shape[0]\n",
    "        padding = np.pad(eopch, (0, max_size0-cur_length), 'constant', constant_values=(0,0))\n",
    "        cceh0 += padding\n",
    "    cceh0_Mops = cceh0[:MAX_SIZE]/1024/1024\n",
    "    time_x = np.array([i for i in np.arange(0.5, (MAX_SIZE + 1)/2, 0.5)])\n",
    "    through_x = cceh0_Mops\n",
    "    print(\"Through0: \", sum(through_x), \"/\", time_x[-1], sum(through_x)/time_x[-1])\n",
    "\n",
    "    for i in range(20, 40):\n",
    "        th = statistic[statistic[\"thread\"]==i]\n",
    "        cur_done = th['cur_done'].values\n",
    "        last_done = th['last_done'].values\n",
    "        eopch = cur_done - last_done\n",
    "        cur_length = cur_done.shape[0]\n",
    "\n",
    "        padding = np.pad(eopch, (0,max_size1-cur_length), 'constant', constant_values=(0,0))\n",
    "        cceh1 += padding\n",
    "    cceh1_Mops = cceh1[:MAX_SIZE]/1014/1024\n",
    "    time_y = np.array([i for i in np.arange(0.5, (MAX_SIZE + 1)/2, 0.5)])\n",
    "    through_y = cceh1_Mops\n",
    "    print(\"Through1: \", sum(through_y), \"/\", time_y[-1], sum(through_y)/time_y[-1])\n",
    "    \n",
    "    print(\"Overall throughput = \", (sum(through_x) + sum(through_y))/ (MAX_SIZE/2) )\n",
    "    return time_x, through_x, time_y, through_y"
   ]
  },
  {
   "cell_type": "code",
   "execution_count": 2,
   "id": "29292087",
   "metadata": {},
   "outputs": [
    {
     "name": "stdout",
     "output_type": "stream",
     "text": [
      "CCEH0 max runtime =  27 CCEH1 max runtime =  13\n",
      "Through0:  37.63866424560547 / 6.5 5.790563730093149\n",
      "Through1:  110.74642504930966 / 6.5 17.037911546047642\n",
      "Overall throughput =  22.82847527614079\n",
      "CCEH0 max runtime =  30 CCEH1 max runtime =  18\n",
      "Through0:  47.12200164794922 / 9.0 5.235777960883246\n",
      "Through1:  113.17820050542406 / 9.0 12.575355611713784\n",
      "Overall throughput =  17.81113357259703\n",
      "13 13 13 13\n"
     ]
    }
   ],
   "source": [
    "# time_d0, through_d0, time_d1, through_d1 = get_dual_results(\"./results_multi/cceh2_dynamic_g1.txt\")\n",
    "time_d0, through_d0, time_d1, through_d1 = get_dual_results(\"./results_bufferdist/ccehdual2_g5.txt\")\n",
    "time_f0, through_f0, time_f1, through_f1 = get_dual_results(\"./results_multi/cceh2_fixed_g5.txt\")\n",
    "\n",
    "print (len(time_d0), len(through_d0), len(time_d1), len(through_d1))\n",
    "\n"
   ]
  },
  {
   "cell_type": "code",
   "execution_count": 3,
   "id": "d4fd3020",
   "metadata": {},
   "outputs": [
    {
     "data": {
      "image/png": "[encoded data removed]",
      "text/plain": [
       "<Figure size 288x259.2 with 1 Axes>"
      ]
     },
     "metadata": {
      "needs_background": "light"
     },
     "output_type": "display_data"
    }
   ],
   "source": [
    "import matplotlib.pyplot as plt\n",
    "import sys\n",
    "from matplotlib.ticker import (MultipleLocator, FormatStrFormatter,AutoMinorLocator)\n",
    "from matplotlib.ticker import FuncFormatter\n",
    "import matplotlib\n",
    "# plt.rcParams[\"font.family\"] = \"arial\"\n",
    "matplotlib.rcParams['pdf.fonttype'] = 42\n",
    "matplotlib.rcParams['ps.fonttype'] = 42\n",
    "\n",
    "gloyend = None\n",
    "# Main\n",
    "dashes=[(2,2), (4,1), (2,0), (2,0), (3, 3), (2, 0), (2,2), (4,1), (2,0), (2,0), (3, 3), (2, 0)]\n",
    "markers = ['x', '|', '.', 'D', 'd', '', 'x', '|', '.', 'D', 'd', '']\n",
    "colors = ['grey', '#FF7F0E', '#2077B4', '#D62728', '#0A640C', '#343434', 'grey', '#FF7F0E', '#2077B4', '#D62728', '#0A640C', '#343434']\n",
    "# colors = ['#2077B4', '#D62728', '#0A640C', '#343434']\n",
    "\n",
    "label = ['Dynamic-CCEH0', 'Dynamic-CCEH1', 'Dynamic CCEHs', 'Fixed-CCEH0', 'Fixed-CCEH1', 'Fixed CCEHs']\n",
    "\n",
    "# d0 d1 represents dynamic CCEH data\n",
    "# f0 f1 represents fixed CCEH data\n",
    "\n",
    "fig, ax = plt.subplots(figsize=(4, 3.6), constrained_layout=True, sharex=True, sharey=True)\n",
    "\n",
    "\n",
    "if (through_d0.shape[0] > through_d1.shape[0]):\n",
    "    thr1 = np.pad(through_d1, (0,through_d0.shape[0] - through_d1.shape[0]), 'constant', constant_values=(0,0))\n",
    "    ax.plot(time_d0, thr1+through_d0, color=colors[3], marker=markers[2], dashes=dashes[2], label = label[2], alpha=0.8, fillstyle='none', markersize=8)\n",
    "else:\n",
    "    thr0 = np.pad(through_d0, (0,through_d1.shape[0] - through_d0.shape[0]), 'constant', constant_values=(0,0))\n",
    "    ax.plot(time_d1, thr0+through_d1, color=colors[3], marker=markers[2], dashes=dashes[2], label = label[2], alpha=0.8, fillstyle='none', markersize=8)\n",
    "\n",
    "if (through_f0.shape[0] > through_f1.shape[0]):\n",
    "    thrb = np.pad(through_f1, (0,through_f0.shape[0] - through_f1.shape[0]), 'constant', constant_values=(0,0))\n",
    "    ax.plot(time_f0, thrb+through_f0, color=colors[5], marker=markers[5], dashes=dashes[5], label = label[5], alpha=0.8, fillstyle='none', markersize=8)\n",
    "else:\n",
    "    thra = np.pad(through_f0, (0,through_f1.shape[0] - through_f0.shape[0]), 'constant', constant_values=(0,0))\n",
    "    ax.plot(time_f1, thra+through_f1, color=colors[5], marker=markers[5], dashes=dashes[5], label = label[5], alpha=0.8, fillstyle='none', markersize=8)\n",
    "\n",
    "ax.legend(loc=\"upper right\")\n",
    "ax.grid(which='major', linestyle='--', zorder=0)\n",
    "ax.grid(which='minor', linestyle='--', zorder=0, linewidth=0.3)\n",
    "ax.xaxis.grid(False, which='both')\n",
    "\n",
    "# ax[0,1].set_title('Time Epoch(1 secs) Throughput \\n CCEH0 70% Write CCEH1 100% Write', fontsize = 14)\n",
    "ax.set_xlabel('Time Epoch (secs)', fontsize=12)\n",
    "ax.set_ylabel('Throughput (Mops/s)', fontsize=12)\n",
    "\n",
    "\n",
    "# fig.suptitle(f'CCEH0 0% Write CCEH1 100% Write (Buffer-70K)', fontsize = 14)\n",
    "# fig.supxlabel('Time Epoch (secs)', fontsize=18)\n",
    "# fig.supylabel('Throughput (Mops/s)', fontsize=18)\n",
    "\n",
    "fig.savefig(\"results_multi/cmp_g5_onlywritesfactor.pdf\", bbox_inches='tight', pad_inches=0)"
   ]
  },
  {
   "cell_type": "markdown",
   "id": "294c2298",
   "metadata": {},
   "source": [
    "# Variable Buffer Size"
   ]
  },
  {
   "cell_type": "code",
   "execution_count": 13,
   "id": "f98a0617",
   "metadata": {},
   "outputs": [],
   "source": [
    "\"\"\"\n",
    "For 2 DIMMs results\n",
    "\"\"\"\n",
    "import pandas as pd\n",
    "import numpy as np\n",
    "\n",
    "def get_dual_results(path):\n",
    "    buffer_dist = []\n",
    "    statistic = []\n",
    "    with open(path, \"r\") as f:\n",
    "        for line in f.readlines():\n",
    "            if (line.startswith(\"TIME|\")):\n",
    "                statistic.append(line.strip(\"TIME|\").strip(\"\\n\").split(\",\"))\n",
    "            else:\n",
    "                buffer_dist.append(line.strip(\"\\n\").split(\",\"))\n",
    "#     if (buffer_dist):\n",
    "#         buffer_dist = np.array(buffer_dist)\n",
    "#         buffer_dist = pd.DataFrame(buffer_dist, columns=['cceh0', 'cceh1', 'total'], dtype=np.float)\n",
    "\n",
    "    if (statistic):\n",
    "        statistic = np.array(statistic)\n",
    "        statistic = pd.DataFrame(statistic, columns=['thread', 'last_done', 'cur_done', 'seg_time', 'time'], dtype=np.float)\n",
    "    \n",
    "    \"\"\"\n",
    "    Calculate throughput : (epoch_ops/epoch_time/1024/1024)\n",
    "    \"\"\"\n",
    "    max_size0 = 0\n",
    "    max_size1 = 0\n",
    "    for i in range(16):\n",
    "        th = statistic[statistic[\"thread\"]==i].shape\n",
    "        if (th[0] > max_size0):\n",
    "            max_size0 = th[0]\n",
    "    \n",
    "    MAX_SIZE = max_size0\n",
    "\n",
    "    cceh0 = np.zeros(max_size0)\n",
    "    \n",
    "    for i in range(16):\n",
    "        th = statistic[statistic[\"thread\"]==i]\n",
    "        cur_done = th['cur_done'].values\n",
    "        last_done = th['last_done'].values\n",
    "        eopch = cur_done - last_done\n",
    "        cur_length = cur_done.shape[0]\n",
    "        padding = np.pad(eopch, (0, max_size0-cur_length), 'constant', constant_values=(0,0))\n",
    "        cceh0 += padding\n",
    "    cceh0_Mops = cceh0[:MAX_SIZE]/0.5/1024/1024\n",
    "    time_x = np.array([i for i in np.arange(0.5, (MAX_SIZE + 1)/2, 0.5)])\n",
    "    through_x = cceh0_Mops\n",
    "    print(\"Through0: \", sum(through_x), \"/\", time_x[-1], sum(through_x)/time_x[-1])\n",
    "\n",
    "    return time_x, through_x"
   ]
  },
  {
   "cell_type": "code",
   "execution_count": 14,
   "id": "fcfff495",
   "metadata": {},
   "outputs": [
    {
     "name": "stdout",
     "output_type": "stream",
     "text": [
      "Through0:  227.020263671875 / 31.0 7.323234311995968\n",
      "Through0:  227.1270751953125 / 32.0 7.097721099853516\n",
      "Through0:  227.34832763671875 / 34.5 6.589806598165761\n"
     ]
    },
    {
     "name": "stderr",
     "output_type": "stream",
     "text": [
      "/tmp/ipykernel_802159/1918236808.py:22: DeprecationWarning: `np.float` is a deprecated alias for the builtin `float`. To silence this warning, use `float` by itself. Doing this will not modify any behavior and is safe. If you specifically wanted the numpy scalar type, use `np.float64` here.\n",
      "Deprecated in NumPy 1.20; for more details and guidance: https://numpy.org/devdocs/release/1.20.0-notes.html#deprecations\n",
      "  statistic = pd.DataFrame(statistic, columns=['thread', 'last_done', 'cur_done', 'seg_time', 'time'], dtype=np.float)\n"
     ]
    }
   ],
   "source": [
    "time_d0, through_d0 = get_dual_results(\"./BufferHashing_Variable_Buffersize/BufferedCCEH_8K.txt\")\n",
    "time_d1, through_d1 = get_dual_results(\"./BufferHashing_Variable_Buffersize/BufferedCCEH_avg_8K.txt\")\n",
    "time_d2, through_d2 = get_dual_results(\"./BufferHashing_Variable_Buffersize/BufferedCCEH_avg2814_8K.txt\")\n",
    "\n"
   ]
  },
  {
   "cell_type": "code",
   "execution_count": 15,
   "id": "7311a591",
   "metadata": {},
   "outputs": [
    {
     "data": {
      "text/plain": [
       "Text(0, 0.5, 'Throughput (Mops/s)')"
      ]
     },
     "execution_count": 15,
     "metadata": {},
     "output_type": "execute_result"
    },
    {
     "data": {
      "image/png": "[encoded data removed]",
      "text/plain": [
       "<Figure size 288x259.2 with 1 Axes>"
      ]
     },
     "metadata": {
      "needs_background": "light"
     },
     "output_type": "display_data"
    }
   ],
   "source": [
    "import matplotlib.pyplot as plt\n",
    "import sys\n",
    "from matplotlib.ticker import (MultipleLocator, FormatStrFormatter,AutoMinorLocator)\n",
    "from matplotlib.ticker import FuncFormatter\n",
    "import matplotlib\n",
    "# plt.rcParams[\"font.family\"] = \"arial\"\n",
    "matplotlib.rcParams['pdf.fonttype'] = 42\n",
    "matplotlib.rcParams['ps.fonttype'] = 42\n",
    "\n",
    "gloyend = None\n",
    "# Main\n",
    "dashes=[(2,2), (4,1), (2,0), (2,0), (3, 3), (2, 0), (2,2), (4,1), (2,0), (2,0), (3, 3), (2, 0)]\n",
    "markers = ['x', '|', '.', 'D', 'd', '', 'x', '|', '.', 'D', 'd', '']\n",
    "colors = ['grey', '#FF7F0E', '#2077B4', '#D62728', '#0A640C', '#343434', '#008837']\n",
    "# colors = ['#2077B4', '#D62728', '#0A640C', '#343434']\n",
    "\n",
    "label = ['8KB', '4KB, 8KB, 12KB', '2KB, 8KB, 14KB']\n",
    "\n",
    "# d0 d1 represents dynamic CCEH data\n",
    "# f0 f1 represents fixed CCEH data\n",
    "\n",
    "fig, ax = plt.subplots(figsize=(4, 3.6), constrained_layout=True, sharex=True, sharey=True)\n",
    "\n",
    "\n",
    "ax.plot(time_d0, through_d0, color=colors[3], marker=markers[2], dashes=dashes[2], label = label[0], alpha=0.8, fillstyle='none', markersize=8)\n",
    "ax.plot(time_d1, through_d1, color=colors[2], marker=markers[2], dashes=dashes[2], label = label[1], alpha=0.8, fillstyle='none', markersize=8)\n",
    "ax.plot(time_d2, through_d2, color=colors[6], marker=markers[2], dashes=dashes[2], label = label[2], alpha=0.8, fillstyle='none', markersize=8)\n",
    "\n",
    "# ax.plot(time_rec0, through_rec0, color=colors[3], marker=markers[2], dashes=dashes[2], label = label[0], alpha=0.8, fillstyle='none', markersize=8)\n",
    "# ax.plot(time_frec0, through_frec0, color=colors[2], marker=markers[2], dashes=dashes[2], label = label[1], alpha=0.8, fillstyle='none', markersize=8)\n",
    "\n",
    "ax.legend(loc=\"upper right\")\n",
    "ax.grid(which='major', linestyle='--', zorder=0)\n",
    "ax.grid(which='minor', linestyle='--', zorder=0, linewidth=0.3)\n",
    "ax.xaxis.grid(False, which='both')\n",
    "\n",
    "# ax[0,1].set_title('Time Epoch(1 secs) Throughput \\n CCEH0 70% Write CCEH1 100% Write', fontsize = 14)\n",
    "ax.set_xlabel('Time Epoch (secs)', fontsize=12)\n",
    "ax.set_ylabel('Throughput (Mops/s)', fontsize=12)\n",
    "\n",
    "\n",
    "# fig.suptitle(f'CCEH0 0% Write CCEH1 100% Write (Buffer-70K)', fontsize = 14)\n",
    "# fig.supxlabel('Time Epoch (secs)', fontsize=18)\n",
    "# fig.supylabel('Throughput (Mops/s)', fontsize=18)\n",
    "\n",
    "# fig.savefig(\"./variable_buffersize/test.pdf\", bbox_inches='tight', pad_inches=0)"
   ]
  },
  {
   "cell_type": "markdown",
   "id": "d11b1b0a",
   "metadata": {},
   "source": [
    "## Recovery Read Performance Comparison"
   ]
  },
  {
   "cell_type": "code",
   "execution_count": 53,
   "id": "b6ca3693",
   "metadata": {},
   "outputs": [],
   "source": [
    "\"\"\"\n",
    "For 2 DIMMs results\n",
    "\"\"\"\n",
    "import pandas as pd\n",
    "import numpy as np\n",
    "\n",
    "def get_dual_results(path):\n",
    "    buffer_dist = []\n",
    "    statistic = []\n",
    "    with open(path, \"r\") as f:\n",
    "        for line in f.readlines():\n",
    "            if (line.startswith(\"TIME|\")):\n",
    "                statistic.append(line.strip(\"TIME|\").strip(\"\\n\").split(\",\"))\n",
    "            else:\n",
    "                buffer_dist.append(line.strip(\"\\n\").split(\",\"))\n",
    "#     if (buffer_dist):\n",
    "#         buffer_dist = np.array(buffer_dist)\n",
    "#         buffer_dist = pd.DataFrame(buffer_dist, columns=['cceh0', 'cceh1', 'total'], dtype=np.float)\n",
    "\n",
    "    if (statistic):\n",
    "        statistic = np.array(statistic)\n",
    "        statistic = pd.DataFrame(statistic, columns=['thread', 'last_done', 'cur_done', 'seg_time', 'time'], dtype=np.float)\n",
    "    \n",
    "    \"\"\"\n",
    "    Calculate throughput : (epoch_ops/epoch_time/1024/1024)\n",
    "    \"\"\"\n",
    "    max_size0 = 0\n",
    "    max_size1 = 0\n",
    "    for i in range(16):\n",
    "        th = statistic[statistic[\"thread\"]==i].shape\n",
    "        if (th[0] > max_size0):\n",
    "            max_size0 = th[0]\n",
    "    \n",
    "    MAX_SIZE = max_size0\n",
    "\n",
    "    cceh0 = np.zeros(max_size0)\n",
    "    \n",
    "    for i in range(16):\n",
    "        th = statistic[statistic[\"thread\"]==i]\n",
    "        cur_done = th['cur_done'].values\n",
    "        last_done = th['last_done'].values\n",
    "        eopch = cur_done - last_done\n",
    "        cur_length = cur_done.shape[0]\n",
    "        padding = np.pad(eopch, (0, max_size0-cur_length), 'constant', constant_values=(0,0))\n",
    "        cceh0 += padding\n",
    "    cceh0_Mops = cceh0[:MAX_SIZE]/0.2/1024/1024\n",
    "    time_x = [i for i in np.arange(0.2, (MAX_SIZE + 1)*0.2, 0.2)]\n",
    "    through_x = cceh0_Mops\n",
    "    print(\"Through0: \", sum(through_x), \"/\", time_x[-1], sum(through_x)/time_x[-1])\n",
    "\n",
    "    return time_x, through_x"
   ]
  },
  {
   "cell_type": "code",
   "execution_count": 54,
   "id": "8ba4f846",
   "metadata": {},
   "outputs": [
    {
     "name": "stdout",
     "output_type": "stream",
     "text": [
      "Through0:  563.1961822509766 / 4.4 127.99913232976739\n",
      "Through0:  558.250904083252 / 5.800000000000001 96.25015587642274\n"
     ]
    },
    {
     "name": "stderr",
     "output_type": "stream",
     "text": [
      "/tmp/ipykernel_802159/609578841.py:22: DeprecationWarning: `np.float` is a deprecated alias for the builtin `float`. To silence this warning, use `float` by itself. Doing this will not modify any behavior and is safe. If you specifically wanted the numpy scalar type, use `np.float64` here.\n",
      "Deprecated in NumPy 1.20; for more details and guidance: https://numpy.org/devdocs/release/1.20.0-notes.html#deprecations\n",
      "  statistic = pd.DataFrame(statistic, columns=['thread', 'last_done', 'cur_done', 'seg_time', 'time'], dtype=np.float)\n"
     ]
    }
   ],
   "source": [
    "# recovery comparison\n",
    "time_rec0, through_rec0 = get_dual_results(\"./BufferHashing_Multi/normal_read1.txt\")\n",
    "time_frec0, through_frec0 = get_dual_results(\"./BufferHashing_Multi/fast_rec_read1.txt\")"
   ]
  },
  {
   "cell_type": "code",
   "execution_count": 57,
   "id": "5da559fb",
   "metadata": {},
   "outputs": [
    {
     "name": "stdout",
     "output_type": "stream",
     "text": [
      "<class 'list'> <class 'list'>\n"
     ]
    },
    {
     "ename": "ValueError",
     "evalue": "operands could not be broadcast together with shapes (17,) (22,) ",
     "output_type": "error",
     "traceback": [
      "\u001b[0;31m---------------------------------------------------------------------------\u001b[0m",
      "\u001b[0;31mValueError\u001b[0m                                Traceback (most recent call last)",
      "\u001b[0;32m/tmp/ipykernel_802159/696617215.py\u001b[0m in \u001b[0;36m<module>\u001b[0;34m\u001b[0m\n\u001b[1;32m     30\u001b[0m \u001b[0mprint\u001b[0m\u001b[0;34m(\u001b[0m\u001b[0mtype\u001b[0m\u001b[0;34m(\u001b[0m\u001b[0mrecovery_time\u001b[0m\u001b[0;34m)\u001b[0m\u001b[0;34m,\u001b[0m \u001b[0mtype\u001b[0m\u001b[0;34m(\u001b[0m\u001b[0mtime_rec0\u001b[0m\u001b[0;34m)\u001b[0m\u001b[0;34m)\u001b[0m\u001b[0;34m\u001b[0m\u001b[0;34m\u001b[0m\u001b[0m\n\u001b[1;32m     31\u001b[0m \u001b[0mtime_rec0\u001b[0m \u001b[0;34m=\u001b[0m \u001b[0mrecovery_time\u001b[0m \u001b[0;34m+\u001b[0m \u001b[0mtime_rec0\u001b[0m\u001b[0;34m\u001b[0m\u001b[0;34m\u001b[0m\u001b[0m\n\u001b[0;32m---> 32\u001b[0;31m \u001b[0mthrough_rec0\u001b[0m \u001b[0;34m=\u001b[0m \u001b[0mrecovery_throughput\u001b[0m \u001b[0;34m+\u001b[0m \u001b[0mthrough_rec0\u001b[0m\u001b[0;34m\u001b[0m\u001b[0;34m\u001b[0m\u001b[0m\n\u001b[0m\u001b[1;32m     33\u001b[0m \u001b[0mprint\u001b[0m\u001b[0;34m(\u001b[0m\u001b[0mlen\u001b[0m\u001b[0;34m(\u001b[0m\u001b[0mtime_rec0\u001b[0m\u001b[0;34m)\u001b[0m\u001b[0;34m,\u001b[0m \u001b[0mlen\u001b[0m\u001b[0;34m(\u001b[0m\u001b[0mthrough_rec0\u001b[0m\u001b[0;34m)\u001b[0m\u001b[0;34m)\u001b[0m\u001b[0;34m\u001b[0m\u001b[0;34m\u001b[0m\u001b[0m\n\u001b[1;32m     34\u001b[0m \u001b[0max\u001b[0m\u001b[0;34m.\u001b[0m\u001b[0mplot\u001b[0m\u001b[0;34m(\u001b[0m\u001b[0mtime_rec0\u001b[0m\u001b[0;34m,\u001b[0m \u001b[0mthrough_rec0\u001b[0m\u001b[0;34m,\u001b[0m \u001b[0mcolor\u001b[0m\u001b[0;34m=\u001b[0m\u001b[0mcolors\u001b[0m\u001b[0;34m[\u001b[0m\u001b[0;36m3\u001b[0m\u001b[0;34m]\u001b[0m\u001b[0;34m,\u001b[0m \u001b[0mmarker\u001b[0m\u001b[0;34m=\u001b[0m\u001b[0mmarkers\u001b[0m\u001b[0;34m[\u001b[0m\u001b[0;36m2\u001b[0m\u001b[0;34m]\u001b[0m\u001b[0;34m,\u001b[0m \u001b[0mdashes\u001b[0m\u001b[0;34m=\u001b[0m\u001b[0mdashes\u001b[0m\u001b[0;34m[\u001b[0m\u001b[0;36m2\u001b[0m\u001b[0;34m]\u001b[0m\u001b[0;34m,\u001b[0m \u001b[0mlabel\u001b[0m \u001b[0;34m=\u001b[0m \u001b[0mlabel\u001b[0m\u001b[0;34m[\u001b[0m\u001b[0;36m0\u001b[0m\u001b[0;34m]\u001b[0m\u001b[0;34m,\u001b[0m \u001b[0malpha\u001b[0m\u001b[0;34m=\u001b[0m\u001b[0;36m0.8\u001b[0m\u001b[0;34m,\u001b[0m \u001b[0mfillstyle\u001b[0m\u001b[0;34m=\u001b[0m\u001b[0;34m'none'\u001b[0m\u001b[0;34m,\u001b[0m \u001b[0mmarkersize\u001b[0m\u001b[0;34m=\u001b[0m\u001b[0;36m8\u001b[0m\u001b[0;34m)\u001b[0m\u001b[0;34m\u001b[0m\u001b[0;34m\u001b[0m\u001b[0m\n",
      "\u001b[0;31mValueError\u001b[0m: operands could not be broadcast together with shapes (17,) (22,) "
     ]
    },
    {
     "data": {
      "image/png": "[encoded data removed]",
      "text/plain": [
       "<Figure size 288x259.2 with 1 Axes>"
      ]
     },
     "metadata": {
      "needs_background": "light"
     },
     "output_type": "display_data"
    }
   ],
   "source": [
    "import matplotlib.pyplot as plt\n",
    "import sys\n",
    "from matplotlib.ticker import (MultipleLocator, FormatStrFormatter,AutoMinorLocator)\n",
    "from matplotlib.ticker import FuncFormatter\n",
    "import matplotlib\n",
    "# plt.rcParams[\"font.family\"] = \"arial\"\n",
    "matplotlib.rcParams['pdf.fonttype'] = 42\n",
    "matplotlib.rcParams['ps.fonttype'] = 42\n",
    "\n",
    "gloyend = None\n",
    "# Main\n",
    "dashes=[(2,2), (4,1), (2,0), (2,0), (3, 3), (2, 0), (2,2), (4,1), (2,0), (2,0), (3, 3), (2, 0)]\n",
    "markers = ['x', '|', '.', 'D', 'd', '', 'x', '|', '.', 'D', 'd', '']\n",
    "colors = ['grey', '#FF7F0E', '#2077B4', '#D62728', '#0A640C', '#343434', '#008837']\n",
    "# colors = ['#2077B4', '#D62728', '#0A640C', '#343434']\n",
    "\n",
    "label = ['Without Warmup', 'Warmup']\n",
    "\n",
    "# d0 d1 represents dynamic CCEH data\n",
    "# f0 f1 represents fixed CCEH data\n",
    "\n",
    "fig, ax = plt.subplots(figsize=(4, 3.6), constrained_layout=True, sharex=True, sharey=True)\n",
    "\n",
    "\n",
    "# ax.plot(time_d0, through_d0, color=colors[3], marker=markers[2], dashes=dashes[2], label = label[0], alpha=0.8, fillstyle='none', markersize=8)\n",
    "# ax.plot(time_d1, through_d1, color=colors[2], marker=markers[2], dashes=dashes[2], label = label[1], alpha=0.8, fillstyle='none', markersize=8)\n",
    "# ax.plot(time_d2, through_d2, color=colors[6], marker=markers[2], dashes=dashes[2], label = label[2], alpha=0.8, fillstyle='none', markersize=8)\n",
    "recovery_time = [i for i in np.arange(0, 3.03, 0.2)]\n",
    "recovery_throughput = [0 for i in range(len(recovery_time) + 1)]\n",
    "print(type(recovery_time), type(time_rec0))\n",
    "time_rec0 = recovery_time + time_rec0\n",
    "through_rec0 = recovery_throughput + through_rec0\n",
    "print(len(time_rec0), len(through_rec0))\n",
    "ax.plot(time_rec0, through_rec0, color=colors[3], marker=markers[2], dashes=dashes[2], label = label[0], alpha=0.8, fillstyle='none', markersize=8)\n",
    "ax.plot(time_frec0, through_frec0, color=colors[2], marker=markers[2], dashes=dashes[2], label = label[1], alpha=0.8, fillstyle='none', markersize=8)\n",
    "\n",
    "ax.legend(loc=\"lower right\")\n",
    "ax.grid(which='major', linestyle='--', zorder=0)\n",
    "ax.grid(which='minor', linestyle='--', zorder=0, linewidth=0.3)\n",
    "ax.xaxis.grid(False, which='both')\n",
    "\n",
    "# ax[0,1].set_title('Time Epoch(1 secs) Throughput \\n CCEH0 70% Write CCEH1 100% Write', fontsize = 14)\n",
    "ax.set_xlabel('Time Epoch (secs)', fontsize=12)\n",
    "ax.set_ylabel('Throughput (Mops/s)', fontsize=12)\n",
    "\n",
    "\n",
    "# fig.suptitle(f'CCEH0 0% Write CCEH1 100% Write (Buffer-70K)', fontsize = 14)\n",
    "# fig.supxlabel('Time Epoch (secs)', fontsize=18)\n",
    "# fig.supylabel('Throughput (Mops/s)', fontsize=18)\n",
    "\n",
    "fig.savefig(\"./BufferHashing_Multi/Recovery_Warmup.pdf\", bbox_inches='tight', pad_inches=0)"
   ]
  },
  {
   "cell_type": "code",
   "execution_count": null,
   "id": "f625b83e",
   "metadata": {},
   "outputs": [],
   "source": []
  }
 ],
 "metadata": {
  "kernelspec": {
   "display_name": "Python 3 (ipykernel)",
   "language": "python",
   "name": "python3"
  },
  "language_info": {
   "codemirror_mode": {
    "name": "ipython",
    "version": 3
   },
   "file_extension": ".py",
   "mimetype": "text/x-python",
   "name": "python",
   "nbconvert_exporter": "python",
   "pygments_lexer": "ipython3",
   "version": "3.9.7"
  }
 },
 "nbformat": 4,
 "nbformat_minor": 5
}
