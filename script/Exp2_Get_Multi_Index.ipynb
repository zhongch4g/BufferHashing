{
 "cells": [
  {
   "cell_type": "code",
   "execution_count": 10,
   "id": "70d684eb",
   "metadata": {},
   "outputs": [],
   "source": [
    "\"\"\"\n",
    "For 2 DIMMs results\n",
    "\"\"\"\n",
    "import pandas as pd\n",
    "import numpy as np\n",
    "\n",
    "def get_dual_results(path):\n",
    "    buffer_dist = []\n",
    "    statistic = []\n",
    "    buffers = []\n",
    "    with open(path, \"r\") as f:\n",
    "        for line in f.readlines():\n",
    "            if (line.startswith(\"TIME|\")):\n",
    "                statistic.append(line.strip(\"TIME|\").strip(\"\\n\").split(\",\"))\n",
    "            elif (line.startswith(\"[Number of Buffers]\")):\n",
    "                buffers.append(line.strip(\"[Number of Buffers]\").strip(\"\\n\").split(\",\"))\n",
    "            else:\n",
    "                buffer_dist.append(line.strip(\"\\n\").split(\",\"))\n",
    "#     if (buffer_dist):\n",
    "#         buffer_dist = np.array(buffer_dist)\n",
    "#         buffer_dist = pd.DataFrame(buffer_dist, columns=['cceh0', 'cceh1', 'total'], dtype=np.float)\n",
    "\n",
    "    if (statistic):\n",
    "        statistic = np.array(statistic)\n",
    "        statistic = pd.DataFrame(statistic, columns=['thread', 'last_done', 'cur_done', 'seg_time', 'time'], dtype=np.float)\n",
    "    if (buffers):\n",
    "        buffers = np.array(buffers)\n",
    "        buffers = pd.DataFrame(buffers, columns=['CCEH0_buffers', 'CCEH1_buffers'], dtype=np.float)\n",
    "    \n",
    "    print(statistic)\n",
    "    \"\"\"\n",
    "    Calculate throughput : (epoch_ops/epoch_time/1024/1024)\n",
    "    \"\"\"\n",
    "    time_epoch = 0.5\n",
    "    max_size0 = 0\n",
    "    max_size1 = 0\n",
    "    for i in range(10):\n",
    "        th = statistic[statistic[\"thread\"]==i].shape\n",
    "        if (th[0] > max_size0):\n",
    "            max_size0 = th[0]\n",
    "\n",
    "    for i in range(10,20):\n",
    "        th = statistic[statistic[\"thread\"]==i].shape\n",
    "        if (th[0] > max_size1):\n",
    "            max_size1 = th[0]\n",
    "\n",
    "    print(\"CCEH0 max runtime = \",max_size0, \"CCEH1 max runtime = \", max_size1)\n",
    "    \n",
    "    MAX_SIZE = min(max_size0, max_size1)\n",
    "\n",
    "    cceh0 = np.zeros(max_size0)\n",
    "    cceh1 = np.zeros(max_size1)\n",
    "    \n",
    "    for i in range(10):\n",
    "        th = statistic[statistic[\"thread\"]==i]\n",
    "        cur_done = th['cur_done'].values\n",
    "        last_done = th['last_done'].values\n",
    "        eopch = cur_done - last_done\n",
    "        cur_length = cur_done.shape[0]\n",
    "        padding = np.pad(eopch, (0, max_size0-cur_length), 'constant', constant_values=(0,0))\n",
    "        cceh0 += padding\n",
    "    cceh0_Mops = cceh0[:MAX_SIZE]/time_epoch/1024/1024\n",
    "    time_x = np.array([i for i in np.arange(time_epoch, (MAX_SIZE + 1)*time_epoch, time_epoch)])\n",
    "    through_x = cceh0_Mops\n",
    "\n",
    "    for i in range(10, 20):\n",
    "        th = statistic[statistic[\"thread\"]==i]\n",
    "        cur_done = th['cur_done'].values\n",
    "        last_done = th['last_done'].values\n",
    "        eopch = cur_done - last_done\n",
    "        cur_length = cur_done.shape[0]\n",
    "\n",
    "        padding = np.pad(eopch, (0,max_size1-cur_length), 'constant', constant_values=(0,0))\n",
    "        cceh1 += padding\n",
    "        \n",
    "    cceh1_Mops = cceh1[:MAX_SIZE]/time_epoch/1014/1024\n",
    "    time_y = np.array([i for i in np.arange(time_epoch, (MAX_SIZE + 1)*time_epoch, time_epoch)])\n",
    "    through_y = cceh1_Mops\n",
    "    \n",
    "    print(\"Overall throughput = \", (sum(through_x) + sum(through_y))/ (MAX_SIZE/2) )\n",
    "    return time_x, through_x, time_y, through_y, buffers"
   ]
  },
  {
   "cell_type": "code",
   "execution_count": 11,
   "id": "c73f5509",
   "metadata": {},
   "outputs": [
    {
     "name": "stdout",
     "output_type": "stream",
     "text": [
      "     thread   last_done    cur_done  seg_time     time\n",
      "0      18.0         0.0    690000.0    0.5002   0.5002\n",
      "1      15.0         0.0    700000.0    0.5021   0.5021\n",
      "2      12.0         0.0    700000.0    0.5028   0.5028\n",
      "3      13.0         0.0    700000.0    0.5029   0.5029\n",
      "4      14.0         0.0    700000.0    0.5031   0.5031\n",
      "..      ...         ...         ...       ...      ...\n",
      "595     3.0  11570000.0  11880000.0    0.5076  15.0083\n",
      "596     4.0  11640000.0  11940000.0    0.4957  15.0114\n",
      "597     1.0  11610000.0  11920000.0    0.5097  15.0115\n",
      "598     8.0  11580000.0  11880000.0    0.4993  15.0147\n",
      "599     6.0  11600000.0  11910000.0    0.5142  15.0158\n",
      "\n",
      "[600 rows x 5 columns]\n",
      "CCEH0 max runtime =  30 CCEH1 max runtime =  30\n",
      "Overall throughput =  30.05416388577493\n",
      "30 30 30 30\n"
     ]
    },
    {
     "name": "stderr",
     "output_type": "stream",
     "text": [
      "/tmp/ipykernel_977989/1204337072.py:25: DeprecationWarning: `np.float` is a deprecated alias for the builtin `float`. To silence this warning, use `float` by itself. Doing this will not modify any behavior and is safe. If you specifically wanted the numpy scalar type, use `np.float64` here.\n",
      "Deprecated in NumPy 1.20; for more details and guidance: https://numpy.org/devdocs/release/1.20.0-notes.html#deprecations\n",
      "  statistic = pd.DataFrame(statistic, columns=['thread', 'last_done', 'cur_done', 'seg_time', 'time'], dtype=np.float)\n",
      "/tmp/ipykernel_977989/1204337072.py:28: DeprecationWarning: `np.float` is a deprecated alias for the builtin `float`. To silence this warning, use `float` by itself. Doing this will not modify any behavior and is safe. If you specifically wanted the numpy scalar type, use `np.float64` here.\n",
      "Deprecated in NumPy 1.20; for more details and guidance: https://numpy.org/devdocs/release/1.20.0-notes.html#deprecations\n",
      "  buffers = pd.DataFrame(buffers, columns=['CCEH0_buffers', 'CCEH1_buffers'], dtype=np.float)\n"
     ]
    }
   ],
   "source": [
    "# time_d0, through_d0, time_d1, through_d1 = get_dual_results(\"./results_multi/cceh2_dynamic_g1.txt\")\n",
    "# time_d0, through_d0, time_d1, through_d1 = get_dual_results(\"./results_bufferdist/ccehdual2_g5.txt\")\n",
    "# time_f0, through_f0, time_f1, through_f1 = get_dual_results(\"./results_multi/cceh2_fixed_g5.txt\")\n",
    "\n",
    "time_d0, through_d0, time_d1, through_d1, dynamic_buffers = get_dual_results(\"./BufferHashing_Multi/dynamic1.txt\")\n",
    "# time_f0, through_f0, time_f1, through_f1 = get_dual_results(\"./results_multi/cceh2_fixed_g5.txt\")\n",
    "\n",
    "print (len(time_d0), len(through_d0), len(time_d1), len(through_d1))\n",
    "\n"
   ]
  },
  {
   "cell_type": "code",
   "execution_count": 12,
   "id": "4ea564ea",
   "metadata": {},
   "outputs": [
    {
     "data": {
      "text/plain": [
       "Text(0, 0.5, 'Throughput (Mops/s)')"
      ]
     },
     "execution_count": 12,
     "metadata": {},
     "output_type": "execute_result"
    },
    {
     "data": {
      "image/png": "[encoded data removed]",
      "text/plain": [
       "<Figure size 288x259.2 with 1 Axes>"
      ]
     },
     "metadata": {
      "needs_background": "light"
     },
     "output_type": "display_data"
    }
   ],
   "source": [
    "import matplotlib.pyplot as plt\n",
    "import sys\n",
    "from matplotlib.ticker import (MultipleLocator, FormatStrFormatter,AutoMinorLocator)\n",
    "from matplotlib.ticker import FuncFormatter\n",
    "import matplotlib\n",
    "# plt.rcParams[\"font.family\"] = \"arial\"\n",
    "matplotlib.rcParams['pdf.fonttype'] = 42\n",
    "matplotlib.rcParams['ps.fonttype'] = 42\n",
    "\n",
    "gloyend = None\n",
    "# Main\n",
    "dashes=[(2,2), (4,1), (2,0), (2,0), (3, 3), (2, 0), (2,2), (4,1), (2,0), (2,0), (3, 3), (2, 0)]\n",
    "markers = ['x', '|', '.', 'D', 'd', '', 'x', '|', '.', 'D', 'd', '']\n",
    "colors = ['grey', '#FF7F0E', '#2077B4', '#D62728', '#0A640C', '#343434', 'grey', '#FF7F0E', '#2077B4', '#D62728', '#0A640C', '#343434']\n",
    "# colors = ['#2077B4', '#D62728', '#0A640C', '#343434']\n",
    "\n",
    "label = ['Dynamic-CCEH0', 'Dynamic-CCEH1', 'Dynamic CCEHs', 'Fixed-CCEH0', 'Fixed-CCEH1', 'Fixed CCEHs']\n",
    "\n",
    "# d0 d1 represents dynamic CCEH data\n",
    "# f0 f1 represents fixed CCEH data\n",
    "\n",
    "fig, ax = plt.subplots(figsize=(4, 3.6), constrained_layout=True, sharex=True, sharey=True)\n",
    "\n",
    "ax.plot(time_d0, through_d0, color=colors[3], marker=markers[2], dashes=dashes[2], label = label[2], alpha=0.8, fillstyle='none', markersize=8)\n",
    "ax.plot(time_d1, through_d1, color=colors[4], marker=markers[2], dashes=dashes[2], label = label[2], alpha=0.8, fillstyle='none', markersize=8)\n",
    "\n",
    "\n",
    "# if (through_d0.shape[0] > through_d1.shape[0]):\n",
    "#     thr1 = np.pad(through_d1, (0,through_d0.shape[0] - through_d1.shape[0]), 'constant', constant_values=(0,0))\n",
    "#     ax.plot(time_d0, thr1+through_d0, color=colors[3], marker=markers[2], dashes=dashes[2], label = label[2], alpha=0.8, fillstyle='none', markersize=8)\n",
    "# else:\n",
    "#     thr0 = np.pad(through_d0, (0,through_d1.shape[0] - through_d0.shape[0]), 'constant', constant_values=(0,0))\n",
    "#     ax.plot(time_d1, thr0+through_d1, color=colors[3], marker=markers[2], dashes=dashes[2], label = label[2], alpha=0.8, fillstyle='none', markersize=8)\n",
    "\n",
    "# if (through_f0.shape[0] > through_f1.shape[0]):\n",
    "#     thrb = np.pad(through_f1, (0,through_f0.shape[0] - through_f1.shape[0]), 'constant', constant_values=(0,0))\n",
    "#     ax.plot(time_f0, thrb+through_f0, color=colors[5], marker=markers[5], dashes=dashes[5], label = label[5], alpha=0.8, fillstyle='none', markersize=8)\n",
    "# else:\n",
    "#     thra = np.pad(through_f0, (0,through_f1.shape[0] - through_f0.shape[0]), 'constant', constant_values=(0,0))\n",
    "#     ax.plot(time_f1, thra+through_f1, color=colors[5], marker=markers[5], dashes=dashes[5], label = label[5], alpha=0.8, fillstyle='none', markersize=8)\n",
    "\n",
    "ax.legend(loc=\"upper right\")\n",
    "ax.grid(which='major', linestyle='--', zorder=0)\n",
    "ax.grid(which='minor', linestyle='--', zorder=0, linewidth=0.3)\n",
    "ax.xaxis.grid(False, which='both')\n",
    "\n",
    "# ax[0,1].set_title('Time Epoch(1 secs) Throughput \\n CCEH0 70% Write CCEH1 100% Write', fontsize = 14)\n",
    "ax.set_xlabel('Time Epoch (secs)', fontsize=12)\n",
    "ax.set_ylabel('Throughput (Mops/s)', fontsize=12)\n",
    "\n",
    "\n",
    "# fig.suptitle(f'CCEH0 0% Write CCEH1 100% Write (Buffer-70K)', fontsize = 14)\n",
    "# fig.supxlabel('Time Epoch (secs)', fontsize=18)\n",
    "# fig.supylabel('Throughput (Mops/s)', fontsize=18)\n",
    "\n",
    "# fig.savefig(\"results_multi/cmp_g5_onlywritesfactor.pdf\", bbox_inches='tight', pad_inches=0)"
   ]
  },
  {
   "cell_type": "code",
   "execution_count": 13,
   "id": "cab5007b",
   "metadata": {},
   "outputs": [
    {
     "name": "stdout",
     "output_type": "stream",
     "text": [
      "30\n"
     ]
    },
    {
     "data": {
      "text/plain": [
       "Text(0, 0.5, '# of Buffers (x$10^3$)')"
      ]
     },
     "execution_count": 13,
     "metadata": {},
     "output_type": "execute_result"
    },
    {
     "data": {
      "image/png": "[encoded data removed]",
      "text/plain": [
       "<Figure size 288x259.2 with 1 Axes>"
      ]
     },
     "metadata": {
      "needs_background": "light"
     },
     "output_type": "display_data"
    }
   ],
   "source": [
    "\n",
    "cceh0 = dynamic_buffers['CCEH0_buffers'].values\n",
    "cceh1 = dynamic_buffers['CCEH1_buffers'].values\n",
    "print(len(cceh0))\n",
    "index = [i for i in np.arange(0.5, (len(cceh0) + 1)*0.5, 0.5)]\n",
    "\n",
    "import matplotlib.pyplot as plt\n",
    "import sys\n",
    "from matplotlib.ticker import (MultipleLocator, FormatStrFormatter,AutoMinorLocator)\n",
    "from matplotlib.ticker import FuncFormatter\n",
    "import matplotlib\n",
    "# plt.rcParams[\"font.family\"] = \"arial\"\n",
    "matplotlib.rcParams['pdf.fonttype'] = 42\n",
    "matplotlib.rcParams['ps.fonttype'] = 42\n",
    "\n",
    "gloyend = None\n",
    "# Main\n",
    "dashes=[(2,2), (4,1), (2,0), (2,0), (3, 3), (2, 0), (2,2), (4,1), (2,0), (2,0), (3, 3), (2, 0)]\n",
    "markers = ['x', '|', '.', 'D', 'd', '', 'x', '|', '.', 'D', 'd', '']\n",
    "colors = ['grey', '#FF7F0E', '#2077B4', '#D62728', '#0A640C', '#343434', 'grey', '#FF7F0E', '#2077B4', '#D62728', '#0A640C', '#343434']\n",
    "# colors = ['#2077B4', '#D62728', '#0A640C', '#343434']\n",
    "\n",
    "label = ['Dynamic CCEH0', 'Dynamic CCEH1']\n",
    "\n",
    "fig, ax = plt.subplots(figsize=(4, 3.6), constrained_layout=True,)\n",
    "\n",
    "ax.plot(index, cceh0/1000, color=colors[2], marker=markers[0], dashes=dashes[0], label = label[0], alpha=0.6, fillstyle='none', markersize=2)\n",
    "ax.plot(index, cceh1/1000, color=colors[7], marker=markers[0], dashes=dashes[0], label = label[1], alpha=0.6, fillstyle='none', markersize=2)\n",
    "\n",
    "# ax.legend(loc=\"lower right\")\n",
    "ax.legend(loc=\"upper left\")\n",
    "\n",
    "ax.grid(which='major', linestyle='--', zorder=0)\n",
    "ax.grid(which='minor', linestyle='--', zorder=0, linewidth=0.3)\n",
    "ax.xaxis.grid(False, which='both')\n",
    "\n",
    "# ax.set_title('Time Epoch(1 secs) Throughput \\n CCEH0 0% Write', fontsize = 14)\n",
    "ax.set_xlabel('Time Epoch (Mops)', fontsize=12)\n",
    "ax.set_ylabel('# of Buffers (x%s)' % r'$10^3$', fontsize=12)\n",
    "\n",
    "# if (saveimg):\n",
    "# fig.savefig(\"./results_bufferdist/bufferdist_g5_th16.pdf\", bbox_inches='tight', pad_inches=0)"
   ]
  },
  {
   "cell_type": "code",
   "execution_count": null,
   "id": "4952a3d2",
   "metadata": {},
   "outputs": [],
   "source": []
  }
 ],
 "metadata": {
  "kernelspec": {
   "display_name": "Python 3 (ipykernel)",
   "language": "python",
   "name": "python3"
  },
  "language_info": {
   "codemirror_mode": {
    "name": "ipython",
    "version": 3
   },
   "file_extension": ".py",
   "mimetype": "text/x-python",
   "name": "python",
   "nbconvert_exporter": "python",
   "pygments_lexer": "ipython3",
   "version": "3.9.7"
  }
 },
 "nbformat": 4,
 "nbformat_minor": 5
}
